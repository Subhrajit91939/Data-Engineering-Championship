{
 "cells": [
  {
   "cell_type": "markdown",
   "metadata": {},
   "source": [
    "**Data Engineering Championship - Problem Statement:**\n",
    "\n",
    "*Participants need to analyse and create features of the following description:*\n",
    "\n",
    "    'DATE': create the date from year, month and day of the week \n",
    "    'LOW': Lower value of DEP_TIME_BLK\n",
    "    'HIGH': Higher value of DEP_TIME_BLK\n",
    "    'TIMESTAMP': create a timestamp with date and lower value of DEP_TIME_BLK\n",
    "    'WIND_CHILL':  the perceived temperature due to cooling effect of wind blowing   \n",
    "    'PRCP_SNOW_RATIO': ratio of precipitation and snow\n",
    "    'PLANE_AGE_AIRLINE_AIRPORT_FLIGHTS_MONTH_RATIO': ratio of plane age and airline and airport flights months.\n",
    "    'SEAT_DISTRIBUTION': Ratio of seats and in  concurrent flight CONCURRENT_FLIGHTS\n",
    "    'SEAT_DISTRIBUTION_NORMALISED': normalized values of ratio of seats and in  concurrent flight "
   ]
  },
  {
   "cell_type": "markdown",
   "metadata": {},
   "source": [
    "#### **1. Importing Necessary Libraries**"
   ]
  },
  {
   "cell_type": "code",
   "execution_count": null,
   "metadata": {},
   "outputs": [],
   "source": [
    "import numpy as np\n",
    "import pandas as pd\n",
    "import datetime as dt\n",
    "\n",
    "#Ignore warnings\n",
    "import warnings\n",
    "warnings.filterwarnings('ignore')"
   ]
  },
  {
   "cell_type": "code",
   "execution_count": null,
   "metadata": {},
   "outputs": [],
   "source": []
  },
  {
   "cell_type": "code",
   "execution_count": null,
   "metadata": {},
   "outputs": [],
   "source": []
  },
  {
   "cell_type": "code",
   "execution_count": null,
   "metadata": {},
   "outputs": [],
   "source": []
  },
  {
   "cell_type": "code",
   "execution_count": null,
   "metadata": {},
   "outputs": [],
   "source": []
  },
  {
   "cell_type": "code",
   "execution_count": null,
   "metadata": {},
   "outputs": [],
   "source": []
  },
  {
   "cell_type": "code",
   "execution_count": null,
   "metadata": {},
   "outputs": [],
   "source": []
  },
  {
   "cell_type": "code",
   "execution_count": null,
   "metadata": {},
   "outputs": [],
   "source": []
  }
 ],
 "metadata": {
  "kernelspec": {
   "display_name": "Python 3.10.6 64-bit (windows store)",
   "language": "python",
   "name": "python3"
  },
  "language_info": {
   "name": "python",
   "version": "3.10.6"
  },
  "orig_nbformat": 4,
  "vscode": {
   "interpreter": {
    "hash": "c8766c1f639af4589262098e34ea10e9fb7cb125c0ec6c6fa746bb74ad3cfa2c"
   }
  }
 },
 "nbformat": 4,
 "nbformat_minor": 2
}
