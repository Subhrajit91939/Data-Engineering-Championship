{
 "cells": [
  {
   "cell_type": "markdown",
   "metadata": {},
   "source": [
    "#### **Data Engineering Championship - Problem Statement:**\n",
    "\n",
    "*Participants need to analyse and create features of the following description:*\n",
    "\n",
    "    'DATE': create the date from year, month and day of the week \n",
    "    'LOW': Lower value of DEP_TIME_BLK\n",
    "    'HIGH': Higher value of DEP_TIME_BLK\n",
    "    'TIMESTAMP': create a timestamp with date and lower value of DEP_TIME_BLK\n",
    "    'WIND_CHILL':  the perceived temperature due to cooling effect of wind blowing   \n",
    "    'PRCP_SNOW_RATIO': ratio of precipitation and snow\n",
    "    'PLANE_AGE_AIRLINE_AIRPORT_FLIGHTS_MONTH_RATIO': ratio of plane age and airline and airport flights months.\n",
    "    'SEAT_DISTRIBUTION': Ratio of seats and in  concurrent flight CONCURRENT_FLIGHTS\n",
    "    'SEAT_DISTRIBUTION_NORMALISED': normalized values of ratio of seats and in  concurrent flight "
   ]
  },
  {
   "cell_type": "markdown",
   "metadata": {},
   "source": [
    "#### **1. Importing Necessary Libraries:**"
   ]
  },
  {
   "cell_type": "code",
   "execution_count": 1,
   "metadata": {},
   "outputs": [],
   "source": [
    "import numpy as np\n",
    "import pandas as pd\n",
    "import datetime as dt\n",
    "import matplotlib.pyplot as plt\n",
    "import seaborn as sns\n",
    "%matplotlib inline\n",
    "\n",
    "pd.set_option('display.max_columns', None)\n",
    "\n",
    "#Ignore warnings\n",
    "import warnings\n",
    "warnings.filterwarnings('ignore')"
   ]
  },
  {
   "cell_type": "markdown",
   "metadata": {},
   "source": [
    "#### **2. Loading the Data:**"
   ]
  },
  {
   "cell_type": "code",
   "execution_count": 2,
   "metadata": {},
   "outputs": [],
   "source": [
    "main_df = pd.read_csv('participants_dataset_DES.csv')\n",
    "submissions_df = pd.read_csv('submission_sample.csv')"
   ]
  },
  {
   "cell_type": "markdown",
   "metadata": {},
   "source": [
    "    MONTH: Month\n",
    "    DAY_OF_WEEK: Day of Week\n",
    "    DEP_DEL15: TARGET Binary of a departure delay over 15 minutes (1 is yes)\n",
    "    DISTANCE_GROUP: Distance group to be flown by departing aircraft\n",
    "    DEP_BLOCK: Departure block\n",
    "    SEGMENT_NUMBER: The segment that this tail number is on for the day\n",
    "    CONCURRENT_FLIGHTS: Concurrent flights leaving from the airport in the same departure block\n",
    "    NUMBER_OF_SEATS: Number of seats on the aircraft\n",
    "    CARRIER_NAME: Carrier\n",
    "    AIRPORT_FLIGHTS_MONTH: Avg Airport Flights per Month\n",
    "    AIRLINE_FLIGHTS_MONTH: Avg Airline Flights per Month\n",
    "    AIRLINE_AIRPORT_FLIGHTS_MONTH: Avg Flights per month for Airline AND Airport\n",
    "    AVG_MONTHLY_PASS_AIRPORT: Avg Passengers for the departing airport for the month\n",
    "    AVG_MONTHLY_PASS_AIRLINE: Avg Passengers for the airline for the month\n",
    "    FLT_ATTENDANTS_PER_PASS: Flight attendants per passenger for airline\n",
    "    GROUND_SERV_PER_PASS: Ground service employees (service desk) per passenger for airline\n",
    "    PLANE_AGE: Age of departing aircraft\n",
    "    DEPARTING_AIRPORT: Departing Airport\n",
    "    LATITUDE: Latitude of departing airport\n",
    "    LONGITUDE: Longitude of departing airport\n",
    "    PREVIOUS_AIRPORT: Previous airport that aircraft departed from\n",
    "    PRCP: Inches of precipitation for the day\n",
    "    SNOW: Inches of snowfall for the day\n",
    "    SNWD: Inches of snow on the ground for the day\n",
    "    TMAX: Max temperature for the day\n",
    "    AWND: Max wind speed for the day"
   ]
  },
  {
   "cell_type": "code",
   "execution_count": 3,
   "metadata": {},
   "outputs": [
    {
     "data": {
      "text/html": [
       "<div>\n",
       "<style scoped>\n",
       "    .dataframe tbody tr th:only-of-type {\n",
       "        vertical-align: middle;\n",
       "    }\n",
       "\n",
       "    .dataframe tbody tr th {\n",
       "        vertical-align: top;\n",
       "    }\n",
       "\n",
       "    .dataframe thead th {\n",
       "        text-align: right;\n",
       "    }\n",
       "</style>\n",
       "<table border=\"1\" class=\"dataframe\">\n",
       "  <thead>\n",
       "    <tr style=\"text-align: right;\">\n",
       "      <th></th>\n",
       "      <th>AIRPLANE_ID</th>\n",
       "      <th>YEAR</th>\n",
       "      <th>MONTH</th>\n",
       "      <th>DAY_OF_WEEK</th>\n",
       "      <th>DEP_DEL15</th>\n",
       "      <th>DEP_TIME_BLK</th>\n",
       "      <th>DISTANCE_GROUP</th>\n",
       "      <th>SEGMENT_NUMBER</th>\n",
       "      <th>CONCURRENT_FLIGHTS</th>\n",
       "      <th>NUMBER_OF_SEATS</th>\n",
       "      <th>CARRIER_NAME</th>\n",
       "      <th>AIRPORT_FLIGHTS_MONTH</th>\n",
       "      <th>AIRLINE_FLIGHTS_MONTH</th>\n",
       "      <th>AIRLINE_AIRPORT_FLIGHTS_MONTH</th>\n",
       "      <th>AVG_MONTHLY_PASS_AIRPORT</th>\n",
       "      <th>AVG_MONTHLY_PASS_AIRLINE</th>\n",
       "      <th>FLT_ATTENDANTS_PER_PASS</th>\n",
       "      <th>GROUND_SERV_PER_PASS</th>\n",
       "      <th>PLANE_AGE</th>\n",
       "      <th>DEPARTING_AIRPORT</th>\n",
       "      <th>LATITUDE</th>\n",
       "      <th>LONGITUDE</th>\n",
       "      <th>PREVIOUS_AIRPORT</th>\n",
       "      <th>PRCP</th>\n",
       "      <th>SNOW</th>\n",
       "      <th>SNWD</th>\n",
       "      <th>TMAX</th>\n",
       "      <th>AWND</th>\n",
       "    </tr>\n",
       "  </thead>\n",
       "  <tbody>\n",
       "    <tr>\n",
       "      <th>0</th>\n",
       "      <td>608900</td>\n",
       "      <td>2020.0</td>\n",
       "      <td>1.0</td>\n",
       "      <td>4</td>\n",
       "      <td>0</td>\n",
       "      <td>0800-0859</td>\n",
       "      <td>NaN</td>\n",
       "      <td>3.0</td>\n",
       "      <td>22.0</td>\n",
       "      <td>NaN</td>\n",
       "      <td>Southwest Airlines Co.</td>\n",
       "      <td>4728.0</td>\n",
       "      <td>107363.0</td>\n",
       "      <td>NaN</td>\n",
       "      <td>2711399.0</td>\n",
       "      <td>13382999.0</td>\n",
       "      <td>0.000061</td>\n",
       "      <td>NaN</td>\n",
       "      <td>11.0</td>\n",
       "      <td>Minneapolis-St Paul International</td>\n",
       "      <td>33.291</td>\n",
       "      <td>-75.177</td>\n",
       "      <td>McCarran International</td>\n",
       "      <td>NaN</td>\n",
       "      <td>NaN</td>\n",
       "      <td>0.0</td>\n",
       "      <td>NaN</td>\n",
       "      <td>NaN</td>\n",
       "    </tr>\n",
       "    <tr>\n",
       "      <th>1</th>\n",
       "      <td>211610</td>\n",
       "      <td>2020.0</td>\n",
       "      <td>1.0</td>\n",
       "      <td>4</td>\n",
       "      <td>0</td>\n",
       "      <td>0600-0659</td>\n",
       "      <td>5.0</td>\n",
       "      <td>3.0</td>\n",
       "      <td>25.0</td>\n",
       "      <td>76.0</td>\n",
       "      <td>Southwest Airlines Co.</td>\n",
       "      <td>NaN</td>\n",
       "      <td>61899.0</td>\n",
       "      <td>189.0</td>\n",
       "      <td>1022110.0</td>\n",
       "      <td>3027151.0</td>\n",
       "      <td>0.000116</td>\n",
       "      <td>0.000099</td>\n",
       "      <td>2.0</td>\n",
       "      <td>Dallas Fort Worth Regional</td>\n",
       "      <td>34.163</td>\n",
       "      <td>-71.006</td>\n",
       "      <td>Orlando International</td>\n",
       "      <td>0.00</td>\n",
       "      <td>NaN</td>\n",
       "      <td>0.0</td>\n",
       "      <td>57.0</td>\n",
       "      <td>4.93</td>\n",
       "    </tr>\n",
       "    <tr>\n",
       "      <th>2</th>\n",
       "      <td>566705</td>\n",
       "      <td>NaN</td>\n",
       "      <td>1.0</td>\n",
       "      <td>4</td>\n",
       "      <td>0</td>\n",
       "      <td>1200-1259</td>\n",
       "      <td>3.0</td>\n",
       "      <td>NaN</td>\n",
       "      <td>19.0</td>\n",
       "      <td>174.0</td>\n",
       "      <td>United Air Lines Inc.</td>\n",
       "      <td>NaN</td>\n",
       "      <td>45432.0</td>\n",
       "      <td>94.0</td>\n",
       "      <td>1686287.0</td>\n",
       "      <td>2742196.0</td>\n",
       "      <td>0.000000</td>\n",
       "      <td>0.000099</td>\n",
       "      <td>11.0</td>\n",
       "      <td>Norfolk International</td>\n",
       "      <td>29.534</td>\n",
       "      <td>-81.622</td>\n",
       "      <td>Chicago Midway International</td>\n",
       "      <td>NaN</td>\n",
       "      <td>0.0</td>\n",
       "      <td>0.0</td>\n",
       "      <td>77.0</td>\n",
       "      <td>7.58</td>\n",
       "    </tr>\n",
       "    <tr>\n",
       "      <th>3</th>\n",
       "      <td>338088</td>\n",
       "      <td>2020.0</td>\n",
       "      <td>NaN</td>\n",
       "      <td>3</td>\n",
       "      <td>1</td>\n",
       "      <td>1000-1059</td>\n",
       "      <td>7.0</td>\n",
       "      <td>NaN</td>\n",
       "      <td>NaN</td>\n",
       "      <td>143.0</td>\n",
       "      <td>Southwest Airlines Co.</td>\n",
       "      <td>4150.0</td>\n",
       "      <td>NaN</td>\n",
       "      <td>684.0</td>\n",
       "      <td>165157.0</td>\n",
       "      <td>13382999.0</td>\n",
       "      <td>NaN</td>\n",
       "      <td>0.000099</td>\n",
       "      <td>6.0</td>\n",
       "      <td>Dallas Fort Worth Regional</td>\n",
       "      <td>38.836</td>\n",
       "      <td>-91.015</td>\n",
       "      <td>Syracuse Hancock International</td>\n",
       "      <td>0.00</td>\n",
       "      <td>0.0</td>\n",
       "      <td>1.2</td>\n",
       "      <td>39.0</td>\n",
       "      <td>6.98</td>\n",
       "    </tr>\n",
       "    <tr>\n",
       "      <th>4</th>\n",
       "      <td>216070</td>\n",
       "      <td>2020.0</td>\n",
       "      <td>1.0</td>\n",
       "      <td>3</td>\n",
       "      <td>1</td>\n",
       "      <td>2200-2259</td>\n",
       "      <td>NaN</td>\n",
       "      <td>NaN</td>\n",
       "      <td>28.0</td>\n",
       "      <td>49.0</td>\n",
       "      <td>Delta Air Lines Inc.</td>\n",
       "      <td>7565.0</td>\n",
       "      <td>23248.0</td>\n",
       "      <td>277.0</td>\n",
       "      <td>1485501.0</td>\n",
       "      <td>11680845.0</td>\n",
       "      <td>0.000098</td>\n",
       "      <td>0.000177</td>\n",
       "      <td>NaN</td>\n",
       "      <td>Newark Liberty International</td>\n",
       "      <td>36.090</td>\n",
       "      <td>-95.852</td>\n",
       "      <td>Los Angeles International</td>\n",
       "      <td>0.34</td>\n",
       "      <td>0.4</td>\n",
       "      <td>NaN</td>\n",
       "      <td>35.0</td>\n",
       "      <td>13.79</td>\n",
       "    </tr>\n",
       "  </tbody>\n",
       "</table>\n",
       "</div>"
      ],
      "text/plain": [
       "   AIRPLANE_ID    YEAR  MONTH  DAY_OF_WEEK  DEP_DEL15 DEP_TIME_BLK  \\\n",
       "0       608900  2020.0    1.0            4          0    0800-0859   \n",
       "1       211610  2020.0    1.0            4          0    0600-0659   \n",
       "2       566705     NaN    1.0            4          0    1200-1259   \n",
       "3       338088  2020.0    NaN            3          1    1000-1059   \n",
       "4       216070  2020.0    1.0            3          1    2200-2259   \n",
       "\n",
       "   DISTANCE_GROUP  SEGMENT_NUMBER  CONCURRENT_FLIGHTS  NUMBER_OF_SEATS  \\\n",
       "0             NaN             3.0                22.0              NaN   \n",
       "1             5.0             3.0                25.0             76.0   \n",
       "2             3.0             NaN                19.0            174.0   \n",
       "3             7.0             NaN                 NaN            143.0   \n",
       "4             NaN             NaN                28.0             49.0   \n",
       "\n",
       "             CARRIER_NAME  AIRPORT_FLIGHTS_MONTH  AIRLINE_FLIGHTS_MONTH  \\\n",
       "0  Southwest Airlines Co.                 4728.0               107363.0   \n",
       "1  Southwest Airlines Co.                    NaN                61899.0   \n",
       "2   United Air Lines Inc.                    NaN                45432.0   \n",
       "3  Southwest Airlines Co.                 4150.0                    NaN   \n",
       "4    Delta Air Lines Inc.                 7565.0                23248.0   \n",
       "\n",
       "   AIRLINE_AIRPORT_FLIGHTS_MONTH  AVG_MONTHLY_PASS_AIRPORT  \\\n",
       "0                            NaN                 2711399.0   \n",
       "1                          189.0                 1022110.0   \n",
       "2                           94.0                 1686287.0   \n",
       "3                          684.0                  165157.0   \n",
       "4                          277.0                 1485501.0   \n",
       "\n",
       "   AVG_MONTHLY_PASS_AIRLINE  FLT_ATTENDANTS_PER_PASS  GROUND_SERV_PER_PASS  \\\n",
       "0                13382999.0                 0.000061                   NaN   \n",
       "1                 3027151.0                 0.000116              0.000099   \n",
       "2                 2742196.0                 0.000000              0.000099   \n",
       "3                13382999.0                      NaN              0.000099   \n",
       "4                11680845.0                 0.000098              0.000177   \n",
       "\n",
       "   PLANE_AGE                  DEPARTING_AIRPORT  LATITUDE  LONGITUDE  \\\n",
       "0       11.0  Minneapolis-St Paul International    33.291    -75.177   \n",
       "1        2.0         Dallas Fort Worth Regional    34.163    -71.006   \n",
       "2       11.0              Norfolk International    29.534    -81.622   \n",
       "3        6.0         Dallas Fort Worth Regional    38.836    -91.015   \n",
       "4        NaN       Newark Liberty International    36.090    -95.852   \n",
       "\n",
       "                 PREVIOUS_AIRPORT  PRCP  SNOW  SNWD  TMAX   AWND  \n",
       "0          McCarran International   NaN   NaN   0.0   NaN    NaN  \n",
       "1           Orlando International  0.00   NaN   0.0  57.0   4.93  \n",
       "2    Chicago Midway International   NaN   0.0   0.0  77.0   7.58  \n",
       "3  Syracuse Hancock International  0.00   0.0   1.2  39.0   6.98  \n",
       "4       Los Angeles International  0.34   0.4   NaN  35.0  13.79  "
      ]
     },
     "execution_count": 3,
     "metadata": {},
     "output_type": "execute_result"
    }
   ],
   "source": [
    "main_df.head(5)"
   ]
  },
  {
   "cell_type": "code",
   "execution_count": 4,
   "metadata": {},
   "outputs": [
    {
     "data": {
      "text/html": [
       "<div>\n",
       "<style scoped>\n",
       "    .dataframe tbody tr th:only-of-type {\n",
       "        vertical-align: middle;\n",
       "    }\n",
       "\n",
       "    .dataframe tbody tr th {\n",
       "        vertical-align: top;\n",
       "    }\n",
       "\n",
       "    .dataframe thead th {\n",
       "        text-align: right;\n",
       "    }\n",
       "</style>\n",
       "<table border=\"1\" class=\"dataframe\">\n",
       "  <thead>\n",
       "    <tr style=\"text-align: right;\">\n",
       "      <th></th>\n",
       "      <th>DATE</th>\n",
       "      <th>LOW</th>\n",
       "      <th>HIGH</th>\n",
       "      <th>TIMESTAMP</th>\n",
       "      <th>WIND_CHILL</th>\n",
       "      <th>PRCP_SNOW_RATIO</th>\n",
       "      <th>PLANE_AGE_AIRLINE_AIRPORT_FLIGHTS_MONTH_RATIO</th>\n",
       "      <th>SEAT_DISTRIBUTION</th>\n",
       "      <th>SEAT_DISTRIBUTION_NORMALISED</th>\n",
       "    </tr>\n",
       "  </thead>\n",
       "  <tbody>\n",
       "    <tr>\n",
       "      <th>0</th>\n",
       "      <td>07/01/20</td>\n",
       "      <td>2100</td>\n",
       "      <td>2159</td>\n",
       "      <td>07/01/20 21:00</td>\n",
       "      <td>0</td>\n",
       "      <td>0</td>\n",
       "      <td>0</td>\n",
       "      <td>0</td>\n",
       "      <td>0</td>\n",
       "    </tr>\n",
       "    <tr>\n",
       "      <th>1</th>\n",
       "      <td>07/01/20</td>\n",
       "      <td>2100</td>\n",
       "      <td>2159</td>\n",
       "      <td>07/01/20 21:00</td>\n",
       "      <td>0</td>\n",
       "      <td>0</td>\n",
       "      <td>0</td>\n",
       "      <td>0</td>\n",
       "      <td>0</td>\n",
       "    </tr>\n",
       "    <tr>\n",
       "      <th>2</th>\n",
       "      <td>0</td>\n",
       "      <td>0</td>\n",
       "      <td>0</td>\n",
       "      <td>0</td>\n",
       "      <td>0</td>\n",
       "      <td>0</td>\n",
       "      <td>0</td>\n",
       "      <td>0</td>\n",
       "      <td>0</td>\n",
       "    </tr>\n",
       "    <tr>\n",
       "      <th>3</th>\n",
       "      <td>0</td>\n",
       "      <td>0</td>\n",
       "      <td>0</td>\n",
       "      <td>0</td>\n",
       "      <td>0</td>\n",
       "      <td>0</td>\n",
       "      <td>0</td>\n",
       "      <td>0</td>\n",
       "      <td>0</td>\n",
       "    </tr>\n",
       "    <tr>\n",
       "      <th>4</th>\n",
       "      <td>0</td>\n",
       "      <td>0</td>\n",
       "      <td>0</td>\n",
       "      <td>0</td>\n",
       "      <td>0</td>\n",
       "      <td>0</td>\n",
       "      <td>0</td>\n",
       "      <td>0</td>\n",
       "      <td>0</td>\n",
       "    </tr>\n",
       "  </tbody>\n",
       "</table>\n",
       "</div>"
      ],
      "text/plain": [
       "       DATE   LOW  HIGH       TIMESTAMP  WIND_CHILL  PRCP_SNOW_RATIO  \\\n",
       "0  07/01/20  2100  2159  07/01/20 21:00           0                0   \n",
       "1  07/01/20  2100  2159  07/01/20 21:00           0                0   \n",
       "2         0     0     0               0           0                0   \n",
       "3         0     0     0               0           0                0   \n",
       "4         0     0     0               0           0                0   \n",
       "\n",
       "   PLANE_AGE_AIRLINE_AIRPORT_FLIGHTS_MONTH_RATIO  SEAT_DISTRIBUTION  \\\n",
       "0                                              0                  0   \n",
       "1                                              0                  0   \n",
       "2                                              0                  0   \n",
       "3                                              0                  0   \n",
       "4                                              0                  0   \n",
       "\n",
       "   SEAT_DISTRIBUTION_NORMALISED  \n",
       "0                             0  \n",
       "1                             0  \n",
       "2                             0  \n",
       "3                             0  \n",
       "4                             0  "
      ]
     },
     "execution_count": 4,
     "metadata": {},
     "output_type": "execute_result"
    }
   ],
   "source": [
    "submissions_df.head(5)"
   ]
  },
  {
   "cell_type": "markdown",
   "metadata": {},
   "source": [
    "#### **3. Data Preprocessing:**\n",
    "    3.0. Checking the information of the data\n",
    "    3.1. Checking for Missing Values\n",
    "    3.2. Checking for Duplicates\n",
    "    3.3. Checking for Outliers\n",
    "    3.4. Checking for Imbalance\n",
    "    3.5. Checking for Correlation\n",
    "    3.6. Checking for Skewness\n",
    "    3.7. Checking for Normality\n",
    "    3.8. Checking for Multicollinearity\n",
    "    3.9. Checking for Feature Importance\n",
    "    3.10. Checking for Feature Selection"
   ]
  },
  {
   "cell_type": "code",
   "execution_count": 5,
   "metadata": {},
   "outputs": [
    {
     "name": "stdout",
     "output_type": "stream",
     "text": [
      "<class 'pandas.core.frame.DataFrame'>\n",
      "RangeIndex: 200000 entries, 0 to 199999\n",
      "Data columns (total 28 columns):\n",
      " #   Column                         Non-Null Count   Dtype  \n",
      "---  ------                         --------------   -----  \n",
      " 0   AIRPLANE_ID                    200000 non-null  int64  \n",
      " 1   YEAR                           160000 non-null  float64\n",
      " 2   MONTH                          160000 non-null  float64\n",
      " 3   DAY_OF_WEEK                    200000 non-null  int64  \n",
      " 4   DEP_DEL15                      200000 non-null  int64  \n",
      " 5   DEP_TIME_BLK                   200000 non-null  object \n",
      " 6   DISTANCE_GROUP                 160000 non-null  float64\n",
      " 7   SEGMENT_NUMBER                 160000 non-null  float64\n",
      " 8   CONCURRENT_FLIGHTS             160000 non-null  float64\n",
      " 9   NUMBER_OF_SEATS                160000 non-null  float64\n",
      " 10  CARRIER_NAME                   200000 non-null  object \n",
      " 11  AIRPORT_FLIGHTS_MONTH          160000 non-null  float64\n",
      " 12  AIRLINE_FLIGHTS_MONTH          160000 non-null  float64\n",
      " 13  AIRLINE_AIRPORT_FLIGHTS_MONTH  160000 non-null  float64\n",
      " 14  AVG_MONTHLY_PASS_AIRPORT       160000 non-null  float64\n",
      " 15  AVG_MONTHLY_PASS_AIRLINE       160000 non-null  float64\n",
      " 16  FLT_ATTENDANTS_PER_PASS        160000 non-null  float64\n",
      " 17  GROUND_SERV_PER_PASS           160000 non-null  float64\n",
      " 18  PLANE_AGE                      160000 non-null  float64\n",
      " 19  DEPARTING_AIRPORT              200000 non-null  object \n",
      " 20  LATITUDE                       200000 non-null  float64\n",
      " 21  LONGITUDE                      200000 non-null  float64\n",
      " 22  PREVIOUS_AIRPORT               200000 non-null  object \n",
      " 23  PRCP                           160000 non-null  float64\n",
      " 24  SNOW                           160000 non-null  float64\n",
      " 25  SNWD                           160000 non-null  float64\n",
      " 26  TMAX                           160000 non-null  float64\n",
      " 27  AWND                           160000 non-null  float64\n",
      "dtypes: float64(21), int64(3), object(4)\n",
      "memory usage: 42.7+ MB\n"
     ]
    }
   ],
   "source": [
    "main_df.info(verbose=True)"
   ]
  },
  {
   "cell_type": "code",
   "execution_count": 6,
   "metadata": {},
   "outputs": [
    {
     "data": {
      "text/plain": [
       "AIRPLANE_ID                          0\n",
       "YEAR                             40000\n",
       "MONTH                            40000\n",
       "DAY_OF_WEEK                          0\n",
       "DEP_DEL15                            0\n",
       "DEP_TIME_BLK                         0\n",
       "DISTANCE_GROUP                   40000\n",
       "SEGMENT_NUMBER                   40000\n",
       "CONCURRENT_FLIGHTS               40000\n",
       "NUMBER_OF_SEATS                  40000\n",
       "CARRIER_NAME                         0\n",
       "AIRPORT_FLIGHTS_MONTH            40000\n",
       "AIRLINE_FLIGHTS_MONTH            40000\n",
       "AIRLINE_AIRPORT_FLIGHTS_MONTH    40000\n",
       "AVG_MONTHLY_PASS_AIRPORT         40000\n",
       "AVG_MONTHLY_PASS_AIRLINE         40000\n",
       "FLT_ATTENDANTS_PER_PASS          40000\n",
       "GROUND_SERV_PER_PASS             40000\n",
       "PLANE_AGE                        40000\n",
       "DEPARTING_AIRPORT                    0\n",
       "LATITUDE                             0\n",
       "LONGITUDE                            0\n",
       "PREVIOUS_AIRPORT                     0\n",
       "PRCP                             40000\n",
       "SNOW                             40000\n",
       "SNWD                             40000\n",
       "TMAX                             40000\n",
       "AWND                             40000\n",
       "dtype: int64"
      ]
     },
     "execution_count": 6,
     "metadata": {},
     "output_type": "execute_result"
    }
   ],
   "source": [
    "# 3.1. Check for missing values\n",
    "main_df.isna().sum()"
   ]
  },
  {
   "cell_type": "code",
   "execution_count": 7,
   "metadata": {},
   "outputs": [
    {
     "data": {
      "text/plain": [
       "0"
      ]
     },
     "execution_count": 7,
     "metadata": {},
     "output_type": "execute_result"
    }
   ],
   "source": [
    "# 3.2. Check for duplicate values\n",
    "main_df.duplicated().sum()\n",
    "# No Duplicates in the dataset"
   ]
  },
  {
   "cell_type": "code",
   "execution_count": 8,
   "metadata": {},
   "outputs": [
    {
     "data": {
      "text/plain": [
       "2020.0    160000\n",
       "Name: YEAR, dtype: int64"
      ]
     },
     "execution_count": 8,
     "metadata": {},
     "output_type": "execute_result"
    }
   ],
   "source": [
    "# The given dataset is for the year 2020.\n",
    "main_df['YEAR'].value_counts()"
   ]
  },
  {
   "cell_type": "code",
   "execution_count": 9,
   "metadata": {},
   "outputs": [
    {
     "data": {
      "text/plain": [
       "1.0    160000\n",
       "Name: MONTH, dtype: int64"
      ]
     },
     "execution_count": 9,
     "metadata": {},
     "output_type": "execute_result"
    }
   ],
   "source": [
    "main_df['MONTH'].value_counts()\n",
    "# Given dataset contains data for the month of January only."
   ]
  },
  {
   "cell_type": "code",
   "execution_count": 10,
   "metadata": {},
   "outputs": [],
   "source": [
    "# filling the NaN values in the 'YEAR' column with the mode of the 'YEAR' column\n",
    "main_df['YEAR'] = main_df['YEAR'].fillna(main_df['YEAR'].mode()[0])\n",
    "# filling the NaN values in the 'MONTH' column with the mode of the 'MONTH' column\n",
    "main_df['MONTH'] = main_df['MONTH'].fillna(main_df['MONTH'].mode()[0])"
   ]
  },
  {
   "cell_type": "code",
   "execution_count": 11,
   "metadata": {},
   "outputs": [],
   "source": [
    "# Changing the data type of the 'YEAR' column to 'int64'\n",
    "main_df['YEAR'] = main_df['YEAR'].astype(int)\n",
    "# Changing the data type of the 'MONTH' column to 'int64'\n",
    "main_df['MONTH'] = main_df['MONTH'].astype(int)"
   ]
  },
  {
   "cell_type": "code",
   "execution_count": 12,
   "metadata": {},
   "outputs": [],
   "source": [
    "# 'DATE': create the date from year, month and day of the week \n",
    "main_df['DATE'] = main_df[['YEAR', 'MONTH', 'DAY_OF_WEEK']].apply(lambda x: '-'.join(x.astype(str)), axis=1)"
   ]
  },
  {
   "cell_type": "code",
   "execution_count": 13,
   "metadata": {},
   "outputs": [
    {
     "data": {
      "text/plain": [
       "0    2020-1-4\n",
       "1    2020-1-4\n",
       "2    2020-1-4\n",
       "3    2020-1-3\n",
       "4    2020-1-3\n",
       "5    2020-1-2\n",
       "6    2020-1-4\n",
       "7    2020-1-3\n",
       "8    2020-1-2\n",
       "9    2020-1-6\n",
       "Name: DATE, dtype: object"
      ]
     },
     "execution_count": 13,
     "metadata": {},
     "output_type": "execute_result"
    }
   ],
   "source": [
    "main_df['DATE'].head(10)"
   ]
  },
  {
   "cell_type": "code",
   "execution_count": 14,
   "metadata": {},
   "outputs": [],
   "source": [
    "# 'LOW': Lower value of DEP_TIME_BLK\n",
    "# 'HIGH': Higher value of DEP_TIME_BLK\n",
    "main_df['LOW'] = main_df['DEP_TIME_BLK'].str.split('-').str[0]\n",
    "main_df['HIGH'] = main_df['DEP_TIME_BLK'].str.split('-').str[1]"
   ]
  },
  {
   "cell_type": "code",
   "execution_count": 15,
   "metadata": {},
   "outputs": [],
   "source": [
    "# 'TIMESTAMP': create a timestamp with date and lower value of DEP_TIME_BLK\n",
    "main_df['RAW_LOW_TIME'] = main_df['LOW'].apply(lambda x: x[:2] + ':' + x[2:])\n",
    "main_df['TIMESTAMP'] = main_df[['DATE', 'RAW_LOW_TIME']].apply(lambda x: ' '.join(x.astype(str)), axis=1)"
   ]
  },
  {
   "cell_type": "code",
   "execution_count": 16,
   "metadata": {},
   "outputs": [
    {
     "data": {
      "text/plain": [
       "0   2020-01-04 08:00:00\n",
       "1   2020-01-04 06:00:00\n",
       "2   2020-01-04 12:00:00\n",
       "3   2020-01-03 10:00:00\n",
       "4   2020-01-03 22:00:00\n",
       "5   2020-01-02 08:00:00\n",
       "6   2020-01-04 08:00:00\n",
       "7   2020-01-03 18:00:00\n",
       "8   2020-01-02 07:00:00\n",
       "9   2020-01-06 09:00:00\n",
       "Name: TIMESTAMP, dtype: datetime64[ns]"
      ]
     },
     "execution_count": 16,
     "metadata": {},
     "output_type": "execute_result"
    }
   ],
   "source": [
    "main_df['TIMESTAMP'] = pd.to_datetime(main_df['TIMESTAMP'], format='%Y-%m-%d %H:%M')\n",
    "main_df['TIMESTAMP'].head(10)"
   ]
  },
  {
   "cell_type": "code",
   "execution_count": 17,
   "metadata": {},
   "outputs": [],
   "source": [
    "main_df.drop(['RAW_LOW_TIME'], axis=1, inplace=True)"
   ]
  },
  {
   "cell_type": "code",
   "execution_count": 18,
   "metadata": {},
   "outputs": [
    {
     "data": {
      "text/plain": [
       "AIRPLANE_ID                          0\n",
       "YEAR                                 0\n",
       "MONTH                                0\n",
       "DAY_OF_WEEK                          0\n",
       "DEP_DEL15                            0\n",
       "DEP_TIME_BLK                         0\n",
       "DISTANCE_GROUP                   40000\n",
       "SEGMENT_NUMBER                   40000\n",
       "CONCURRENT_FLIGHTS               40000\n",
       "NUMBER_OF_SEATS                  40000\n",
       "CARRIER_NAME                         0\n",
       "AIRPORT_FLIGHTS_MONTH            40000\n",
       "AIRLINE_FLIGHTS_MONTH            40000\n",
       "AIRLINE_AIRPORT_FLIGHTS_MONTH    40000\n",
       "AVG_MONTHLY_PASS_AIRPORT         40000\n",
       "AVG_MONTHLY_PASS_AIRLINE         40000\n",
       "FLT_ATTENDANTS_PER_PASS          40000\n",
       "GROUND_SERV_PER_PASS             40000\n",
       "PLANE_AGE                        40000\n",
       "DEPARTING_AIRPORT                    0\n",
       "LATITUDE                             0\n",
       "LONGITUDE                            0\n",
       "PREVIOUS_AIRPORT                     0\n",
       "PRCP                             40000\n",
       "SNOW                             40000\n",
       "SNWD                             40000\n",
       "TMAX                             40000\n",
       "AWND                             40000\n",
       "DATE                                 0\n",
       "LOW                                  0\n",
       "HIGH                                 0\n",
       "TIMESTAMP                            0\n",
       "dtype: int64"
      ]
     },
     "execution_count": 18,
     "metadata": {},
     "output_type": "execute_result"
    }
   ],
   "source": [
    "main_df.isna().sum()"
   ]
  },
  {
   "cell_type": "code",
   "execution_count": 19,
   "metadata": {},
   "outputs": [
    {
     "data": {
      "image/png": "[encoded data removed]",
      "text/plain": [
       "<Figure size 1080x720 with 2 Axes>"
      ]
     },
     "metadata": {
      "needs_background": "light"
     },
     "output_type": "display_data"
    }
   ],
   "source": [
    "# Create a correlation heatmap  to check the correlation between the columns that can have an effect on the missing values in the 'TMAX' and 'AWND' columns\n",
    "plt.figure(figsize=(15, 10))\n",
    "sns.heatmap(main_df[['DISTANCE_GROUP', 'LATITUDE',\n",
    "       'LONGITUDE', 'PRCP', 'SNOW', 'SNWD', 'TMAX', 'AWND']].corr(), annot=True, cmap='Blues')\n",
    "plt.show()"
   ]
  },
  {
   "cell_type": "code",
   "execution_count": 20,
   "metadata": {},
   "outputs": [
    {
     "data": {
      "text/plain": [
       "Index(['AIRPLANE_ID', 'YEAR', 'MONTH', 'DAY_OF_WEEK', 'DEP_DEL15',\n",
       "       'DEP_TIME_BLK', 'DISTANCE_GROUP', 'SEGMENT_NUMBER',\n",
       "       'CONCURRENT_FLIGHTS', 'NUMBER_OF_SEATS', 'CARRIER_NAME',\n",
       "       'AIRPORT_FLIGHTS_MONTH', 'AIRLINE_FLIGHTS_MONTH',\n",
       "       'AIRLINE_AIRPORT_FLIGHTS_MONTH', 'AVG_MONTHLY_PASS_AIRPORT',\n",
       "       'AVG_MONTHLY_PASS_AIRLINE', 'FLT_ATTENDANTS_PER_PASS',\n",
       "       'GROUND_SERV_PER_PASS', 'PLANE_AGE', 'DEPARTING_AIRPORT', 'LATITUDE',\n",
       "       'LONGITUDE', 'PREVIOUS_AIRPORT', 'PRCP', 'SNOW', 'SNWD', 'TMAX', 'AWND',\n",
       "       'DATE', 'LOW', 'HIGH', 'TIMESTAMP'],\n",
       "      dtype='object')"
      ]
     },
     "execution_count": 20,
     "metadata": {},
     "output_type": "execute_result"
    }
   ],
   "source": [
    "main_df.columns"
   ]
  },
  {
   "cell_type": "code",
   "execution_count": 21,
   "metadata": {},
   "outputs": [
    {
     "name": "stdout",
     "output_type": "stream",
     "text": [
      "[IterativeImputer] Completing matrix with shape (200000, 23)\n",
      "[IterativeImputer] Change: 8734820.178116864, scaled tolerance: 13382.999 \n",
      "[IterativeImputer] Change: 1752942.0386038688, scaled tolerance: 13382.999 \n",
      "[IterativeImputer] Change: 681304.3254066666, scaled tolerance: 13382.999 \n",
      "[IterativeImputer] Change: 294303.0109167914, scaled tolerance: 13382.999 \n",
      "[IterativeImputer] Change: 127881.47793710885, scaled tolerance: 13382.999 \n",
      "[IterativeImputer] Change: 55676.06503712728, scaled tolerance: 13382.999 \n",
      "[IterativeImputer] Change: 24259.822234560008, scaled tolerance: 13382.999 \n",
      "[IterativeImputer] Change: 10574.089019231424, scaled tolerance: 13382.999 \n",
      "[IterativeImputer] Early stopping criterion reached.\n"
     ]
    }
   ],
   "source": [
    "# We can take MICE Imputation to fill the missing values in all the columns:\n",
    "\n",
    "from sklearn.experimental import enable_iterative_imputer\n",
    "from sklearn.impute import IterativeImputer\n",
    "from sklearn.linear_model import LinearRegression\n",
    "\n",
    "# Create a copy of the main_df\n",
    "main_df_copy = main_df.drop(['AIRPLANE_ID','DEP_TIME_BLK','CARRIER_NAME','DEPARTING_AIRPORT','PREVIOUS_AIRPORT', 'DATE', 'LOW', 'HIGH', 'TIMESTAMP'],axis=1)\n",
    "\n",
    "# Linear Regression as an Estimator\n",
    "estimator = LinearRegression()\n",
    "\n",
    "# Create an instance of IterativeImputer\n",
    "imputer = IterativeImputer(estimator=estimator, random_state=42, max_iter=15, imputation_order='roman', verbose=True)\n",
    "\n",
    "# Impute the missing values in the 'AWND' and 'TMAX' columns\n",
    "X = imputer.fit_transform(main_df_copy)"
   ]
  },
  {
   "cell_type": "code",
   "execution_count": 22,
   "metadata": {},
   "outputs": [
    {
     "data": {
      "text/plain": [
       "Index(['YEAR', 'MONTH', 'DAY_OF_WEEK', 'DEP_DEL15', 'DISTANCE_GROUP',\n",
       "       'SEGMENT_NUMBER', 'CONCURRENT_FLIGHTS', 'NUMBER_OF_SEATS',\n",
       "       'AIRPORT_FLIGHTS_MONTH', 'AIRLINE_FLIGHTS_MONTH',\n",
       "       'AIRLINE_AIRPORT_FLIGHTS_MONTH', 'AVG_MONTHLY_PASS_AIRPORT',\n",
       "       'AVG_MONTHLY_PASS_AIRLINE', 'FLT_ATTENDANTS_PER_PASS',\n",
       "       'GROUND_SERV_PER_PASS', 'PLANE_AGE', 'LATITUDE', 'LONGITUDE', 'PRCP',\n",
       "       'SNOW', 'SNWD', 'TMAX', 'AWND'],\n",
       "      dtype='object')"
      ]
     },
     "execution_count": 22,
     "metadata": {},
     "output_type": "execute_result"
    }
   ],
   "source": [
    "main_df_copy.columns"
   ]
  },
  {
   "cell_type": "code",
   "execution_count": 23,
   "metadata": {},
   "outputs": [],
   "source": [
    "main_df_copy[['YEAR', 'MONTH', 'DAY_OF_WEEK', 'DEP_DEL15', 'DISTANCE_GROUP',\n",
    "       'SEGMENT_NUMBER', 'CONCURRENT_FLIGHTS', 'NUMBER_OF_SEATS',\n",
    "       'AIRPORT_FLIGHTS_MONTH', 'AIRLINE_FLIGHTS_MONTH',\n",
    "       'AIRLINE_AIRPORT_FLIGHTS_MONTH', 'AVG_MONTHLY_PASS_AIRPORT',\n",
    "       'AVG_MONTHLY_PASS_AIRLINE', 'FLT_ATTENDANTS_PER_PASS',\n",
    "       'GROUND_SERV_PER_PASS', 'PLANE_AGE', 'LATITUDE', 'LONGITUDE', 'PRCP',\n",
    "       'SNOW', 'SNWD', 'TMAX', 'AWND']] = X"
   ]
  },
  {
   "cell_type": "code",
   "execution_count": 24,
   "metadata": {},
   "outputs": [
    {
     "data": {
      "image/png": "[encoded data removed]",
      "text/plain": [
       "<Figure size 1080x576 with 1 Axes>"
      ]
     },
     "metadata": {
      "needs_background": "light"
     },
     "output_type": "display_data"
    }
   ],
   "source": [
    "# Let's have a look at the distribution of the 'TMAX' and 'AWND' Columns before we fill the missing values\n",
    "# Plot the distribution of the 'TMAX' column\n",
    "plt.figure(figsize=(15, 8))\n",
    "sns.histplot(x=main_df['TMAX'], kde=True)\n",
    "plt.xticks(rotation=90)\n",
    "plt.show()"
   ]
  },
  {
   "cell_type": "code",
   "execution_count": 25,
   "metadata": {},
   "outputs": [
    {
     "data": {
      "image/png": "[encoded data removed]",
      "text/plain": [
       "<Figure size 1080x576 with 1 Axes>"
      ]
     },
     "metadata": {
      "needs_background": "light"
     },
     "output_type": "display_data"
    }
   ],
   "source": [
    "# Let's have a look at the distribution of the 'TMAX' and 'AWND' Columns after we fill the missing values\n",
    "# Plot the distribution of the 'TMAX' column\n",
    "plt.figure(figsize=(15, 8))\n",
    "sns.histplot(x=main_df_copy['TMAX'], kde=True)\n",
    "plt.xticks(rotation=90)\n",
    "plt.show()"
   ]
  },
  {
   "cell_type": "code",
   "execution_count": 26,
   "metadata": {},
   "outputs": [
    {
     "data": {
      "image/png": "[encoded data removed]",
      "text/plain": [
       "<Figure size 1080x576 with 1 Axes>"
      ]
     },
     "metadata": {
      "needs_background": "light"
     },
     "output_type": "display_data"
    }
   ],
   "source": [
    "# Plot the distribution of the 'AWND' column before the Imputation\n",
    "plt.figure(figsize=(15, 8))\n",
    "sns.histplot(x=main_df['AWND'], kde=True)\n",
    "plt.xticks(rotation=90)\n",
    "plt.show()"
   ]
  },
  {
   "cell_type": "code",
   "execution_count": 27,
   "metadata": {},
   "outputs": [
    {
     "data": {
      "image/png": "[encoded data removed]",
      "text/plain": [
       "<Figure size 1080x576 with 1 Axes>"
      ]
     },
     "metadata": {
      "needs_background": "light"
     },
     "output_type": "display_data"
    }
   ],
   "source": [
    "# Plot the distribution of the 'AWND' column after the Imputation\n",
    "plt.figure(figsize=(15, 8))\n",
    "sns.histplot(x=main_df_copy['AWND'], kde=True)\n",
    "plt.xticks(rotation=90)\n",
    "plt.show()"
   ]
  },
  {
   "cell_type": "code",
   "execution_count": 28,
   "metadata": {},
   "outputs": [],
   "source": [
    "# Drop the \"WIND_CHILL\" column for the time being\n",
    "# main_df.drop(['WIND_CHILL'], axis=1, inplace=True)"
   ]
  },
  {
   "cell_type": "code",
   "execution_count": 29,
   "metadata": {},
   "outputs": [],
   "source": [
    "# 'WIND_CHILL':  the perceived temperature due to cooling effect of wind blowing   \n",
    "# Wind Chill Temperature using the wind speed and temperature (Source: https://en.wikipedia.org/wiki/Wind_chill#/media/File:Wind_chill.png)\n",
    "\n",
    "# TMAX: Max temperature for the day\n",
    "# AWND: Max wind speed for the day\n",
    "\n",
    "# Mising vlaues in the 'TMAX' and 'AWND' columns needs to be treated prior to calculating the 'WIND_CHILL' column\n",
    "\n",
    "main_df['WIND_CHILL'] = 35.74 + (0.6215 * main_df['TMAX']) - (35.75 * (main_df['AWND'] ** 0.16)) + (0.4275 * main_df['TMAX'] * (main_df['AWND'] ** 0.16))"
   ]
  },
  {
   "cell_type": "code",
   "execution_count": 30,
   "metadata": {},
   "outputs": [
    {
     "data": {
      "image/png": "[encoded data removed]",
      "text/plain": [
       "<Figure size 1080x576 with 1 Axes>"
      ]
     },
     "metadata": {
      "needs_background": "light"
     },
     "output_type": "display_data"
    }
   ],
   "source": [
    "# Plot the distribution of the 'PRCP' column before the Imputation\n",
    "plt.figure(figsize=(15, 8))\n",
    "sns.histplot(x=main_df['PRCP'], kde=True)\n",
    "plt.xticks(rotation=90)\n",
    "plt.show()"
   ]
  },
  {
   "cell_type": "code",
   "execution_count": 31,
   "metadata": {},
   "outputs": [
    {
     "data": {
      "image/png": "[encoded data removed]",
      "text/plain": [
       "<Figure size 1080x576 with 1 Axes>"
      ]
     },
     "metadata": {
      "needs_background": "light"
     },
     "output_type": "display_data"
    }
   ],
   "source": [
    "# Plot the distribution of the 'PRCP' column after the Imputation\n",
    "plt.figure(figsize=(15, 8))\n",
    "sns.histplot(x=main_df_copy['PRCP'], kde=True)\n",
    "plt.xticks(rotation=90)\n",
    "plt.show()"
   ]
  },
  {
   "cell_type": "code",
   "execution_count": 32,
   "metadata": {},
   "outputs": [
    {
     "data": {
      "image/png": "[encoded data removed]",
      "text/plain": [
       "<Figure size 1080x576 with 1 Axes>"
      ]
     },
     "metadata": {
      "needs_background": "light"
     },
     "output_type": "display_data"
    }
   ],
   "source": [
    "# Plot the distribution of the 'SNOW' column before the Imputation\n",
    "plt.figure(figsize=(15, 8))\n",
    "sns.histplot(x=main_df['SNOW'], kde=True)\n",
    "plt.xticks(rotation=90)\n",
    "plt.show()"
   ]
  },
  {
   "cell_type": "code",
   "execution_count": 33,
   "metadata": {},
   "outputs": [
    {
     "data": {
      "image/png": "[encoded data removed]",
      "text/plain": [
       "<Figure size 1080x576 with 1 Axes>"
      ]
     },
     "metadata": {
      "needs_background": "light"
     },
     "output_type": "display_data"
    }
   ],
   "source": [
    "# Plot the distribution of the 'SNWD' column before the Imputation\n",
    "plt.figure(figsize=(15, 8))\n",
    "sns.histplot(x=main_df['SNWD'], kde=True)\n",
    "plt.xticks(rotation=90)\n",
    "plt.show()"
   ]
  },
  {
   "cell_type": "code",
   "execution_count": 34,
   "metadata": {},
   "outputs": [
    {
     "data": {
      "image/png": "[encoded data removed]",
      "text/plain": [
       "<Figure size 1080x576 with 1 Axes>"
      ]
     },
     "metadata": {
      "needs_background": "light"
     },
     "output_type": "display_data"
    }
   ],
   "source": [
    "# Plot the distribution of the 'SNWD' column before the Imputation\n",
    "plt.figure(figsize=(15, 8))\n",
    "sns.histplot(x=main_df_copy['SNWD'], kde=True)\n",
    "plt.xticks(rotation=90)\n",
    "plt.show()"
   ]
  },
  {
   "cell_type": "code",
   "execution_count": 35,
   "metadata": {},
   "outputs": [
    {
     "data": {
      "text/plain": [
       "(200000, 9)"
      ]
     },
     "execution_count": 35,
     "metadata": {},
     "output_type": "execute_result"
    }
   ],
   "source": [
    "submissions_df.shape"
   ]
  },
  {
   "cell_type": "code",
   "execution_count": 36,
   "metadata": {},
   "outputs": [
    {
     "data": {
      "text/plain": [
       "YEAR                             0\n",
       "MONTH                            0\n",
       "DAY_OF_WEEK                      0\n",
       "DEP_DEL15                        0\n",
       "DISTANCE_GROUP                   0\n",
       "SEGMENT_NUMBER                   0\n",
       "CONCURRENT_FLIGHTS               0\n",
       "NUMBER_OF_SEATS                  0\n",
       "AIRPORT_FLIGHTS_MONTH            0\n",
       "AIRLINE_FLIGHTS_MONTH            0\n",
       "AIRLINE_AIRPORT_FLIGHTS_MONTH    0\n",
       "AVG_MONTHLY_PASS_AIRPORT         0\n",
       "AVG_MONTHLY_PASS_AIRLINE         0\n",
       "FLT_ATTENDANTS_PER_PASS          0\n",
       "GROUND_SERV_PER_PASS             0\n",
       "PLANE_AGE                        0\n",
       "LATITUDE                         0\n",
       "LONGITUDE                        0\n",
       "PRCP                             0\n",
       "SNOW                             0\n",
       "SNWD                             0\n",
       "TMAX                             0\n",
       "AWND                             0\n",
       "dtype: int64"
      ]
     },
     "execution_count": 36,
     "metadata": {},
     "output_type": "execute_result"
    }
   ],
   "source": [
    "main_df_copy.isna().sum()"
   ]
  },
  {
   "cell_type": "code",
   "execution_count": 37,
   "metadata": {},
   "outputs": [
    {
     "data": {
      "text/plain": [
       "Index(['YEAR', 'MONTH', 'DAY_OF_WEEK', 'DEP_DEL15', 'DISTANCE_GROUP',\n",
       "       'SEGMENT_NUMBER', 'CONCURRENT_FLIGHTS', 'NUMBER_OF_SEATS',\n",
       "       'AIRPORT_FLIGHTS_MONTH', 'AIRLINE_FLIGHTS_MONTH',\n",
       "       'AIRLINE_AIRPORT_FLIGHTS_MONTH', 'AVG_MONTHLY_PASS_AIRPORT',\n",
       "       'AVG_MONTHLY_PASS_AIRLINE', 'FLT_ATTENDANTS_PER_PASS',\n",
       "       'GROUND_SERV_PER_PASS', 'PLANE_AGE', 'LATITUDE', 'LONGITUDE', 'PRCP',\n",
       "       'SNOW', 'SNWD', 'TMAX', 'AWND'],\n",
       "      dtype='object')"
      ]
     },
     "execution_count": 37,
     "metadata": {},
     "output_type": "execute_result"
    }
   ],
   "source": [
    "main_df_copy.columns"
   ]
  },
  {
   "cell_type": "code",
   "execution_count": 38,
   "metadata": {},
   "outputs": [],
   "source": [
    "main_df[['YEAR', 'MONTH', 'DAY_OF_WEEK', 'DEP_DEL15', 'DISTANCE_GROUP',\n",
    "       'SEGMENT_NUMBER', 'CONCURRENT_FLIGHTS', 'NUMBER_OF_SEATS',\n",
    "       'AIRPORT_FLIGHTS_MONTH', 'AIRLINE_FLIGHTS_MONTH',\n",
    "       'AIRLINE_AIRPORT_FLIGHTS_MONTH', 'AVG_MONTHLY_PASS_AIRPORT',\n",
    "       'AVG_MONTHLY_PASS_AIRLINE', 'FLT_ATTENDANTS_PER_PASS',\n",
    "       'GROUND_SERV_PER_PASS', 'PLANE_AGE', 'LATITUDE', 'LONGITUDE', 'PRCP',\n",
    "       'SNOW', 'SNWD', 'TMAX', 'AWND']] = main_df_copy[['YEAR', 'MONTH', 'DAY_OF_WEEK', 'DEP_DEL15', 'DISTANCE_GROUP',\n",
    "       'SEGMENT_NUMBER', 'CONCURRENT_FLIGHTS', 'NUMBER_OF_SEATS',\n",
    "       'AIRPORT_FLIGHTS_MONTH', 'AIRLINE_FLIGHTS_MONTH',\n",
    "       'AIRLINE_AIRPORT_FLIGHTS_MONTH', 'AVG_MONTHLY_PASS_AIRPORT',\n",
    "       'AVG_MONTHLY_PASS_AIRLINE', 'FLT_ATTENDANTS_PER_PASS',\n",
    "       'GROUND_SERV_PER_PASS', 'PLANE_AGE', 'LATITUDE', 'LONGITUDE', 'PRCP',\n",
    "       'SNOW', 'SNWD', 'TMAX', 'AWND']]"
   ]
  },
  {
   "cell_type": "code",
   "execution_count": 39,
   "metadata": {},
   "outputs": [],
   "source": [
    "cols = ['DATE', 'LOW', 'HIGH', 'TIMESTAMP', 'WIND_CHILL']"
   ]
  },
  {
   "cell_type": "code",
   "execution_count": 40,
   "metadata": {},
   "outputs": [
    {
     "data": {
      "text/plain": [
       "AIRPLANE_ID                          0\n",
       "YEAR                                 0\n",
       "MONTH                                0\n",
       "DAY_OF_WEEK                          0\n",
       "DEP_DEL15                            0\n",
       "DEP_TIME_BLK                         0\n",
       "DISTANCE_GROUP                       0\n",
       "SEGMENT_NUMBER                       0\n",
       "CONCURRENT_FLIGHTS                   0\n",
       "NUMBER_OF_SEATS                      0\n",
       "CARRIER_NAME                         0\n",
       "AIRPORT_FLIGHTS_MONTH                0\n",
       "AIRLINE_FLIGHTS_MONTH                0\n",
       "AIRLINE_AIRPORT_FLIGHTS_MONTH        0\n",
       "AVG_MONTHLY_PASS_AIRPORT             0\n",
       "AVG_MONTHLY_PASS_AIRLINE             0\n",
       "FLT_ATTENDANTS_PER_PASS              0\n",
       "GROUND_SERV_PER_PASS                 0\n",
       "PLANE_AGE                            0\n",
       "DEPARTING_AIRPORT                    0\n",
       "LATITUDE                             0\n",
       "LONGITUDE                            0\n",
       "PREVIOUS_AIRPORT                     0\n",
       "PRCP                                 0\n",
       "SNOW                                 0\n",
       "SNWD                                 0\n",
       "TMAX                                 0\n",
       "AWND                                 0\n",
       "DATE                                 0\n",
       "LOW                                  0\n",
       "HIGH                                 0\n",
       "TIMESTAMP                            0\n",
       "WIND_CHILL                       72068\n",
       "dtype: int64"
      ]
     },
     "execution_count": 40,
     "metadata": {},
     "output_type": "execute_result"
    }
   ],
   "source": [
    "main_df.isna().sum()"
   ]
  },
  {
   "cell_type": "code",
   "execution_count": 41,
   "metadata": {},
   "outputs": [],
   "source": [
    "submissions_df[cols] = main_df[cols]"
   ]
  },
  {
   "cell_type": "code",
   "execution_count": 42,
   "metadata": {},
   "outputs": [],
   "source": [
    "# 'PRCP_SNOW_RATIO': ratio of precipitation and snow\n",
    "submissions_df['PRCP_SNOW_RATIO'] = (main_df['PRCP'] / main_df['SNOW'])"
   ]
  },
  {
   "cell_type": "code",
   "execution_count": 43,
   "metadata": {},
   "outputs": [],
   "source": [
    "# 'PLANE_AGE_AIRLINE_AIRPORT_FLIGHTS_MONTH_RATIO': ratio of plane age and airline and airport flights months.\n",
    "submissions_df['PLANE_AGE_AIRLINE_AIRPORT_FLIGHTS_MONTH_RATIO'] = (main_df['PLANE_AGE'] / main_df['AIRLINE_AIRPORT_FLIGHTS_MONTH'])"
   ]
  },
  {
   "cell_type": "code",
   "execution_count": 44,
   "metadata": {},
   "outputs": [],
   "source": [
    "# 'SEAT_DISTRIBUTION': Ratio of seats and in  concurrent flight CONCURRENT_FLIGHTS\n",
    "submissions_df['SEAT_DISTRIBUTION'] = (main_df['NUMBER_OF_SEATS'] / main_df['CONCURRENT_FLIGHTS'])"
   ]
  },
  {
   "cell_type": "code",
   "execution_count": 45,
   "metadata": {},
   "outputs": [],
   "source": [
    "# 'SEAT_DISTRIBUTION_NORMALISED': normalized values of ratio of seats and in  concurrent flight \n",
    "submissions_df['SEAT_DISTRIBUTION_NORMALISED'] = ((submissions_df['SEAT_DISTRIBUTION'] - submissions_df['SEAT_DISTRIBUTION'].min()) / (submissions_df['SEAT_DISTRIBUTION'].max() - submissions_df['SEAT_DISTRIBUTION'].min()))"
   ]
  },
  {
   "cell_type": "code",
   "execution_count": 46,
   "metadata": {},
   "outputs": [
    {
     "data": {
      "text/html": [
       "<div>\n",
       "<style scoped>\n",
       "    .dataframe tbody tr th:only-of-type {\n",
       "        vertical-align: middle;\n",
       "    }\n",
       "\n",
       "    .dataframe tbody tr th {\n",
       "        vertical-align: top;\n",
       "    }\n",
       "\n",
       "    .dataframe thead th {\n",
       "        text-align: right;\n",
       "    }\n",
       "</style>\n",
       "<table border=\"1\" class=\"dataframe\">\n",
       "  <thead>\n",
       "    <tr style=\"text-align: right;\">\n",
       "      <th></th>\n",
       "      <th>DATE</th>\n",
       "      <th>LOW</th>\n",
       "      <th>HIGH</th>\n",
       "      <th>TIMESTAMP</th>\n",
       "      <th>WIND_CHILL</th>\n",
       "      <th>PRCP_SNOW_RATIO</th>\n",
       "      <th>PLANE_AGE_AIRLINE_AIRPORT_FLIGHTS_MONTH_RATIO</th>\n",
       "      <th>SEAT_DISTRIBUTION</th>\n",
       "      <th>SEAT_DISTRIBUTION_NORMALISED</th>\n",
       "    </tr>\n",
       "  </thead>\n",
       "  <tbody>\n",
       "    <tr>\n",
       "      <th>0</th>\n",
       "      <td>2020-1-4</td>\n",
       "      <td>0800</td>\n",
       "      <td>0859</td>\n",
       "      <td>2020-01-04 08:00:00</td>\n",
       "      <td>NaN</td>\n",
       "      <td>-140.507968</td>\n",
       "      <td>0.002312</td>\n",
       "      <td>7.305534</td>\n",
       "      <td>0.028512</td>\n",
       "    </tr>\n",
       "    <tr>\n",
       "      <th>1</th>\n",
       "      <td>2020-1-4</td>\n",
       "      <td>0600</td>\n",
       "      <td>0659</td>\n",
       "      <td>2020-01-04 06:00:00</td>\n",
       "      <td>56.473086</td>\n",
       "      <td>0.000000</td>\n",
       "      <td>0.010582</td>\n",
       "      <td>3.040000</td>\n",
       "      <td>0.010549</td>\n",
       "    </tr>\n",
       "    <tr>\n",
       "      <th>2</th>\n",
       "      <td>2020-1-4</td>\n",
       "      <td>1200</td>\n",
       "      <td>1259</td>\n",
       "      <td>2020-01-04 12:00:00</td>\n",
       "      <td>79.678830</td>\n",
       "      <td>inf</td>\n",
       "      <td>0.117021</td>\n",
       "      <td>9.157895</td>\n",
       "      <td>0.036313</td>\n",
       "    </tr>\n",
       "    <tr>\n",
       "      <th>3</th>\n",
       "      <td>2020-1-3</td>\n",
       "      <td>1000</td>\n",
       "      <td>1059</td>\n",
       "      <td>2020-01-03 10:00:00</td>\n",
       "      <td>33.944654</td>\n",
       "      <td>NaN</td>\n",
       "      <td>0.008772</td>\n",
       "      <td>10.674436</td>\n",
       "      <td>0.042699</td>\n",
       "    </tr>\n",
       "    <tr>\n",
       "      <th>4</th>\n",
       "      <td>2020-1-3</td>\n",
       "      <td>2200</td>\n",
       "      <td>2259</td>\n",
       "      <td>2020-01-03 22:00:00</td>\n",
       "      <td>25.860071</td>\n",
       "      <td>0.850000</td>\n",
       "      <td>0.038342</td>\n",
       "      <td>1.750000</td>\n",
       "      <td>0.005117</td>\n",
       "    </tr>\n",
       "    <tr>\n",
       "      <th>5</th>\n",
       "      <td>2020-1-2</td>\n",
       "      <td>0800</td>\n",
       "      <td>0859</td>\n",
       "      <td>2020-01-02 08:00:00</td>\n",
       "      <td>47.991828</td>\n",
       "      <td>NaN</td>\n",
       "      <td>0.012567</td>\n",
       "      <td>1.387755</td>\n",
       "      <td>0.003592</td>\n",
       "    </tr>\n",
       "    <tr>\n",
       "      <th>6</th>\n",
       "      <td>2020-1-4</td>\n",
       "      <td>0800</td>\n",
       "      <td>0859</td>\n",
       "      <td>2020-01-04 08:00:00</td>\n",
       "      <td>53.919910</td>\n",
       "      <td>inf</td>\n",
       "      <td>0.001862</td>\n",
       "      <td>13.307692</td>\n",
       "      <td>0.053788</td>\n",
       "    </tr>\n",
       "    <tr>\n",
       "      <th>7</th>\n",
       "      <td>2020-1-3</td>\n",
       "      <td>1800</td>\n",
       "      <td>1859</td>\n",
       "      <td>2020-01-03 18:00:00</td>\n",
       "      <td>-3.245167</td>\n",
       "      <td>NaN</td>\n",
       "      <td>0.076305</td>\n",
       "      <td>6.730283</td>\n",
       "      <td>0.026090</td>\n",
       "    </tr>\n",
       "    <tr>\n",
       "      <th>8</th>\n",
       "      <td>2020-1-2</td>\n",
       "      <td>0700</td>\n",
       "      <td>0759</td>\n",
       "      <td>2020-01-02 07:00:00</td>\n",
       "      <td>NaN</td>\n",
       "      <td>inf</td>\n",
       "      <td>0.009257</td>\n",
       "      <td>14.200000</td>\n",
       "      <td>0.057546</td>\n",
       "    </tr>\n",
       "    <tr>\n",
       "      <th>9</th>\n",
       "      <td>2020-1-6</td>\n",
       "      <td>0900</td>\n",
       "      <td>0959</td>\n",
       "      <td>2020-01-06 09:00:00</td>\n",
       "      <td>NaN</td>\n",
       "      <td>NaN</td>\n",
       "      <td>0.074709</td>\n",
       "      <td>34.000000</td>\n",
       "      <td>0.140926</td>\n",
       "    </tr>\n",
       "  </tbody>\n",
       "</table>\n",
       "</div>"
      ],
      "text/plain": [
       "       DATE   LOW  HIGH           TIMESTAMP  WIND_CHILL  PRCP_SNOW_RATIO  \\\n",
       "0  2020-1-4  0800  0859 2020-01-04 08:00:00         NaN      -140.507968   \n",
       "1  2020-1-4  0600  0659 2020-01-04 06:00:00   56.473086         0.000000   \n",
       "2  2020-1-4  1200  1259 2020-01-04 12:00:00   79.678830              inf   \n",
       "3  2020-1-3  1000  1059 2020-01-03 10:00:00   33.944654              NaN   \n",
       "4  2020-1-3  2200  2259 2020-01-03 22:00:00   25.860071         0.850000   \n",
       "5  2020-1-2  0800  0859 2020-01-02 08:00:00   47.991828              NaN   \n",
       "6  2020-1-4  0800  0859 2020-01-04 08:00:00   53.919910              inf   \n",
       "7  2020-1-3  1800  1859 2020-01-03 18:00:00   -3.245167              NaN   \n",
       "8  2020-1-2  0700  0759 2020-01-02 07:00:00         NaN              inf   \n",
       "9  2020-1-6  0900  0959 2020-01-06 09:00:00         NaN              NaN   \n",
       "\n",
       "   PLANE_AGE_AIRLINE_AIRPORT_FLIGHTS_MONTH_RATIO  SEAT_DISTRIBUTION  \\\n",
       "0                                       0.002312           7.305534   \n",
       "1                                       0.010582           3.040000   \n",
       "2                                       0.117021           9.157895   \n",
       "3                                       0.008772          10.674436   \n",
       "4                                       0.038342           1.750000   \n",
       "5                                       0.012567           1.387755   \n",
       "6                                       0.001862          13.307692   \n",
       "7                                       0.076305           6.730283   \n",
       "8                                       0.009257          14.200000   \n",
       "9                                       0.074709          34.000000   \n",
       "\n",
       "   SEAT_DISTRIBUTION_NORMALISED  \n",
       "0                      0.028512  \n",
       "1                      0.010549  \n",
       "2                      0.036313  \n",
       "3                      0.042699  \n",
       "4                      0.005117  \n",
       "5                      0.003592  \n",
       "6                      0.053788  \n",
       "7                      0.026090  \n",
       "8                      0.057546  \n",
       "9                      0.140926  "
      ]
     },
     "execution_count": 46,
     "metadata": {},
     "output_type": "execute_result"
    }
   ],
   "source": [
    "submissions_df.head(10)"
   ]
  },
  {
   "cell_type": "code",
   "execution_count": 47,
   "metadata": {},
   "outputs": [],
   "source": [
    "# replacing infinity values with Nan\n",
    "submissions_df.replace([np.inf, -np.inf], np.nan, inplace=True)"
   ]
  },
  {
   "cell_type": "code",
   "execution_count": 48,
   "metadata": {},
   "outputs": [],
   "source": [
    "#Fill the Nan values with 0\n",
    "submissions_df.fillna(0, inplace=True)"
   ]
  },
  {
   "cell_type": "code",
   "execution_count": 49,
   "metadata": {},
   "outputs": [],
   "source": [
    "submissions_df['DATE'] = pd.to_datetime(submissions_df['DATE'], format='%Y-%m-%d')"
   ]
  },
  {
   "cell_type": "code",
   "execution_count": 50,
   "metadata": {},
   "outputs": [],
   "source": [
    "submissions_df['DATE']= submissions_df['DATE'].dt.strftime('%d/%m/%y') #Changing Datetime format"
   ]
  },
  {
   "cell_type": "code",
   "execution_count": 51,
   "metadata": {},
   "outputs": [],
   "source": [
    "submissions_df['TIMESTAMP'] = pd.to_datetime(submissions_df['TIMESTAMP'], format='%Y-%m-%d %H:%M')"
   ]
  },
  {
   "cell_type": "code",
   "execution_count": 52,
   "metadata": {},
   "outputs": [],
   "source": [
    "submissions_df['TIMESTAMP']= submissions_df['TIMESTAMP'].dt.strftime('%d/%m/%y %H:%M')# Changing Timestamp format"
   ]
  },
  {
   "cell_type": "code",
   "execution_count": 53,
   "metadata": {},
   "outputs": [
    {
     "name": "stdout",
     "output_type": "stream",
     "text": [
      "<class 'pandas.core.frame.DataFrame'>\n",
      "RangeIndex: 200000 entries, 0 to 199999\n",
      "Data columns (total 9 columns):\n",
      " #   Column                                         Non-Null Count   Dtype  \n",
      "---  ------                                         --------------   -----  \n",
      " 0   DATE                                           200000 non-null  object \n",
      " 1   LOW                                            200000 non-null  object \n",
      " 2   HIGH                                           200000 non-null  object \n",
      " 3   TIMESTAMP                                      200000 non-null  object \n",
      " 4   WIND_CHILL                                     200000 non-null  float64\n",
      " 5   PRCP_SNOW_RATIO                                200000 non-null  float64\n",
      " 6   PLANE_AGE_AIRLINE_AIRPORT_FLIGHTS_MONTH_RATIO  200000 non-null  float64\n",
      " 7   SEAT_DISTRIBUTION                              200000 non-null  float64\n",
      " 8   SEAT_DISTRIBUTION_NORMALISED                   200000 non-null  float64\n",
      "dtypes: float64(5), object(4)\n",
      "memory usage: 13.7+ MB\n"
     ]
    }
   ],
   "source": [
    "submissions_df.info(verbose=True, null_counts=True)"
   ]
  },
  {
   "cell_type": "code",
   "execution_count": 54,
   "metadata": {},
   "outputs": [
    {
     "data": {
      "text/html": [
       "<div>\n",
       "<style scoped>\n",
       "    .dataframe tbody tr th:only-of-type {\n",
       "        vertical-align: middle;\n",
       "    }\n",
       "\n",
       "    .dataframe tbody tr th {\n",
       "        vertical-align: top;\n",
       "    }\n",
       "\n",
       "    .dataframe thead th {\n",
       "        text-align: right;\n",
       "    }\n",
       "</style>\n",
       "<table border=\"1\" class=\"dataframe\">\n",
       "  <thead>\n",
       "    <tr style=\"text-align: right;\">\n",
       "      <th></th>\n",
       "      <th>DATE</th>\n",
       "      <th>LOW</th>\n",
       "      <th>HIGH</th>\n",
       "      <th>TIMESTAMP</th>\n",
       "      <th>WIND_CHILL</th>\n",
       "      <th>PRCP_SNOW_RATIO</th>\n",
       "      <th>PLANE_AGE_AIRLINE_AIRPORT_FLIGHTS_MONTH_RATIO</th>\n",
       "      <th>SEAT_DISTRIBUTION</th>\n",
       "      <th>SEAT_DISTRIBUTION_NORMALISED</th>\n",
       "    </tr>\n",
       "  </thead>\n",
       "  <tbody>\n",
       "    <tr>\n",
       "      <th>0</th>\n",
       "      <td>04/01/20</td>\n",
       "      <td>0800</td>\n",
       "      <td>0859</td>\n",
       "      <td>04/01/20 08:00</td>\n",
       "      <td>0.000000</td>\n",
       "      <td>-140.507968</td>\n",
       "      <td>0.002312</td>\n",
       "      <td>7.305534</td>\n",
       "      <td>0.028512</td>\n",
       "    </tr>\n",
       "    <tr>\n",
       "      <th>1</th>\n",
       "      <td>04/01/20</td>\n",
       "      <td>0600</td>\n",
       "      <td>0659</td>\n",
       "      <td>04/01/20 06:00</td>\n",
       "      <td>56.473086</td>\n",
       "      <td>0.000000</td>\n",
       "      <td>0.010582</td>\n",
       "      <td>3.040000</td>\n",
       "      <td>0.010549</td>\n",
       "    </tr>\n",
       "    <tr>\n",
       "      <th>2</th>\n",
       "      <td>04/01/20</td>\n",
       "      <td>1200</td>\n",
       "      <td>1259</td>\n",
       "      <td>04/01/20 12:00</td>\n",
       "      <td>79.678830</td>\n",
       "      <td>0.000000</td>\n",
       "      <td>0.117021</td>\n",
       "      <td>9.157895</td>\n",
       "      <td>0.036313</td>\n",
       "    </tr>\n",
       "    <tr>\n",
       "      <th>3</th>\n",
       "      <td>03/01/20</td>\n",
       "      <td>1000</td>\n",
       "      <td>1059</td>\n",
       "      <td>03/01/20 10:00</td>\n",
       "      <td>33.944654</td>\n",
       "      <td>0.000000</td>\n",
       "      <td>0.008772</td>\n",
       "      <td>10.674436</td>\n",
       "      <td>0.042699</td>\n",
       "    </tr>\n",
       "    <tr>\n",
       "      <th>4</th>\n",
       "      <td>03/01/20</td>\n",
       "      <td>2200</td>\n",
       "      <td>2259</td>\n",
       "      <td>03/01/20 22:00</td>\n",
       "      <td>25.860071</td>\n",
       "      <td>0.850000</td>\n",
       "      <td>0.038342</td>\n",
       "      <td>1.750000</td>\n",
       "      <td>0.005117</td>\n",
       "    </tr>\n",
       "  </tbody>\n",
       "</table>\n",
       "</div>"
      ],
      "text/plain": [
       "       DATE   LOW  HIGH       TIMESTAMP  WIND_CHILL  PRCP_SNOW_RATIO  \\\n",
       "0  04/01/20  0800  0859  04/01/20 08:00    0.000000      -140.507968   \n",
       "1  04/01/20  0600  0659  04/01/20 06:00   56.473086         0.000000   \n",
       "2  04/01/20  1200  1259  04/01/20 12:00   79.678830         0.000000   \n",
       "3  03/01/20  1000  1059  03/01/20 10:00   33.944654         0.000000   \n",
       "4  03/01/20  2200  2259  03/01/20 22:00   25.860071         0.850000   \n",
       "\n",
       "   PLANE_AGE_AIRLINE_AIRPORT_FLIGHTS_MONTH_RATIO  SEAT_DISTRIBUTION  \\\n",
       "0                                       0.002312           7.305534   \n",
       "1                                       0.010582           3.040000   \n",
       "2                                       0.117021           9.157895   \n",
       "3                                       0.008772          10.674436   \n",
       "4                                       0.038342           1.750000   \n",
       "\n",
       "   SEAT_DISTRIBUTION_NORMALISED  \n",
       "0                      0.028512  \n",
       "1                      0.010549  \n",
       "2                      0.036313  \n",
       "3                      0.042699  \n",
       "4                      0.005117  "
      ]
     },
     "execution_count": 54,
     "metadata": {},
     "output_type": "execute_result"
    }
   ],
   "source": [
    "submissions_df.head()"
   ]
  },
  {
   "cell_type": "code",
   "execution_count": 55,
   "metadata": {},
   "outputs": [],
   "source": [
    "# Exporting the dataframe to csv file\n",
    "submissions_df.to_csv('DES_SG01.csv',index=False)"
   ]
  }
 ],
 "metadata": {
  "kernelspec": {
   "display_name": "Python 3.9.12 ('base')",
   "language": "python",
   "name": "python3"
  },
  "language_info": {
   "codemirror_mode": {
    "name": "ipython",
    "version": 3
   },
   "file_extension": ".py",
   "mimetype": "text/x-python",
   "name": "python",
   "nbconvert_exporter": "python",
   "pygments_lexer": "ipython3",
   "version": "3.9.12"
  },
  "orig_nbformat": 4,
  "vscode": {
   "interpreter": {
    "hash": "88279d2366fe020547cde40dd65aa0e3aa662a6ec1f3ca12d88834876c85e1a6"
   }
  }
 },
 "nbformat": 4,
 "nbformat_minor": 2
}
